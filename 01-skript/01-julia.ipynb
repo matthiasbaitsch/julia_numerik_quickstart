{
 "cells": [
  {
   "cell_type": "markdown",
   "metadata": {},
   "source": [
    "# Jupyter Notebooks und Julia\n",
    "\n",
    "Ein Jupyter Notebook ist ein Dokument, das sowohl Text als auch Programmcode enthalten kann. \n",
    "In einer geeigneten Umgebung (z.B. browserbasiert in \n",
    "[JupyterLab](https://mybinder.org/v2/gh/jupyterlab/jupyterlab-demo/master?urlpath=lab/tree/demo) \n",
    "oder einer Entwicklungsumgebung wie\n",
    "[Visual Studio Code](https://code.visualstudio.com/docs/datascience/jupyter-notebooks)\n",
    ") \n",
    "können damit interaktive Dokumente erstellt werden, die sich in verschiedene Formate exportieren lassen (HTML, PDF, LaTeX und Folien für Präsentationen).\n",
    "\n",
    "Ein Jupyter Notebook besteht aus Zellen die entweder\n",
    "\n",
    "- Text in [Markdown-Schreibweise](https://www.ibm.com/docs/en/db2-event-store/2.0.0?topic=notebooks-markdown-jupyter-cheatsheet) oder\n",
    "- Programmcode (bei uns Julia)\n",
    "\n",
    "enthalten können. Textzellen lassen sich mit einem Doppelklick bearbeiten, mit `Shift + Enter` schließen Sie die Bearbeitung ab."
   ]
  },
  {
   "cell_type": "markdown",
   "metadata": {},
   "source": [
    "## Variablen, Operatoren und mathematische Funktionen\n",
    "\n",
    "Variablen enthalten Werte, im Beispiel unten eine Zeichenkette, eine Fließkommazahl und eine ganze Zahl. Die Ausgabe erfolgt mit der `print` - Funktion."
   ]
  },
  {
   "cell_type": "code",
   "execution_count": 1,
   "metadata": {},
   "outputs": [
    {
     "name": "stdout",
     "output_type": "stream",
     "text": [
      " a = Hallo, x = 3.1, y = 42"
     ]
    }
   ],
   "source": [
    "a = \"Hallo\"\n",
    "x = 3.1\n",
    "y = 42\n",
    "print(\" a = \", a, \", x = \", x, \", y = \", y)"
   ]
  },
  {
   "cell_type": "markdown",
   "metadata": {},
   "source": [
    "Für numerische Argumente haben die Operatoren `+`, `-`, `*`, `/` die üblichen Bedeutungen. Zusätzlich gibt es \n",
    "\n",
    "- `%` - Rest einer Division\n",
    "- `÷` - Division mit Runden nach unten\n",
    "- `^` - Potenz"
   ]
  },
  {
   "cell_type": "code",
   "execution_count": 2,
   "metadata": {},
   "outputs": [
    {
     "name": "stdout",
     "output_type": "stream",
     "text": [
      "1\n",
      "2\n",
      "343\n"
     ]
    }
   ],
   "source": [
    "println(7 % 3)\n",
    "println(7 ÷ 3)\n",
    "println(7 ^ 3)"
   ]
  },
  {
   "cell_type": "markdown",
   "metadata": {},
   "source": [
    "Es stehen die gängigen mathematischen Funktionen wie `sqrt`, `pow`, `sin`, `cos` sowie mathematische Konstanten, z.B. $\\pi$ und $e$ zur Verfügung."
   ]
  },
  {
   "cell_type": "code",
   "execution_count": 1,
   "metadata": {},
   "outputs": [
    {
     "name": "stdout",
     "output_type": "stream",
     "text": [
      "2.0\n",
      "2.718281828459045\n",
      "πsin(π) = 0.0\n",
      "ℯ, log(ℯ) = 1\n"
     ]
    }
   ],
   "source": [
    "println(sqrt(4))\n",
    "println(exp(1))\n",
    "println(π, \"sin(π) = \", sin(π))\n",
    "println(ℯ, \", log(ℯ) = \", log(ℯ))"
   ]
  },
  {
   "cell_type": "markdown",
   "metadata": {},
   "source": [
    "Julia verwendet den Unicode Zeichensatz, es können daher Symbole wie π verwendet werden. Die Eingabe erfolgt mit \\pi und wir mit der Tabulatortaste umgewandelt. In VSCode muss hierzu der Julia Language Server funktionieren (Settings → Extensions → Julia → Executable Path - einfach nach 'julia executable path' suchen und in den Einstellungen für User eintragen).\n",
    "\n",
    "Hier die Liste der Symbole: https://docs.julialang.org/en/v1/manual/unicode-input/\n",
    "\n",
    "Man kann dann auch mit Emojis rechnen."
   ]
  },
  {
   "cell_type": "code",
   "execution_count": 4,
   "metadata": {},
   "outputs": [
    {
     "data": {
      "text/plain": [
       "-0.75"
      ]
     },
     "execution_count": 4,
     "metadata": {},
     "output_type": "execute_result"
    }
   ],
   "source": [
    "😬 = 3\n",
    "🤠 = 6\n",
    "👺 = 1\n",
    "☠️ = 4\n",
    "👺 * (😬 - 🤠) / ☠️"
   ]
  },
  {
   "cell_type": "markdown",
   "metadata": {},
   "source": [
    "### Beispiel\n",
    "\n",
    "Die quadratische Gleichung $ax^2 + bx + c = 0$ besitzt die Lösungen\n",
    "\n",
    "$$\n",
    "    x_{1,2} = \\frac{-b \\pm \\sqrt{b^2 - 4ac}}{2a}\n",
    "$$\n",
    "\n",
    "die hier in Julia berechnet werden:"
   ]
  },
  {
   "cell_type": "code",
   "execution_count": 4,
   "metadata": {},
   "outputs": [
    {
     "name": "stdout",
     "output_type": "stream",
     "text": [
      "Lösungen: x1 = -1.0 und x2 = 3.0"
     ]
    }
   ],
   "source": [
    "a =  1\n",
    "b = -2\n",
    "c = -3\n",
    "x1 = (-b - sqrt(b^2 - 4 * a * c)) / (2 * a)\n",
    "x2 = (-b + sqrt(b^2 - 4 * a * c)) / (2 * a)\n",
    "print(\"Lösungen: x1 = \", x1, \" und x2 = \", x2)"
   ]
  },
  {
   "cell_type": "markdown",
   "metadata": {},
   "source": [
    "## Arrays\n",
    "\n",
    "Ein Array in Julia kann man sich als eine Sequenz von Kästchen vorstellen. Jedes Kästchen kann beliebige Julia-Objekte enthalten, die beim Erzeugen der Liste\n",
    "in eckige Klammern geschrieben und durch Kommata getrennt werden. Später werden wir noch ausführlich über Arrays von Zahlen sprechen, alles hier gesagte gilt dort auch."
   ]
  },
  {
   "cell_type": "code",
   "execution_count": 2,
   "metadata": {},
   "outputs": [
    {
     "name": "stdout",
     "output_type": "stream",
     "text": [
      "Array l = Any[π, \"Hallo!\", 2021]"
     ]
    }
   ],
   "source": [
    "l = [π, \"Hallo!\", 2021]\n",
    "print(\"Array l = \", l)"
   ]
  },
  {
   "cell_type": "markdown",
   "metadata": {},
   "source": [
    "Wir ein Array ausgegeben, dann schreibt Julia den Datentyp der enthaltenen Objekte dazu, `Any` kann beliebige Werte enthalten."
   ]
  },
  {
   "cell_type": "markdown",
   "metadata": {},
   "source": [
    "Der Zugriff auf den Inhalt der Kästchen erfolgt mit einem Index, wobei das erste Kästchen den Index `1` hat. Die Länge erhält man\n",
    "mit der Funktion `length`."
   ]
  },
  {
   "cell_type": "code",
   "execution_count": 3,
   "metadata": {},
   "outputs": [
    {
     "name": "stdout",
     "output_type": "stream",
     "text": [
      "Inhalt von Array l im zweiten Kästchen: Hallo!\n",
      "Geänderte Liste: Any[π, \"Auf Wiedersehen!\", 2021]\n",
      "Anzahl der Kästchen in l: 3\n"
     ]
    }
   ],
   "source": [
    "println(\"Inhalt von Array l im zweiten Kästchen: \", l[2])\n",
    "l[2] = \"Auf Wiedersehen!\"\n",
    "println(\"Geänderte Liste: \", l)\n",
    "println(\"Anzahl der Kästchen in l: \", length(l))"
   ]
  },
  {
   "cell_type": "markdown",
   "metadata": {},
   "source": [
    "Arrays können auch Schritt für Schritt erzeugt werden. Es ist zum Beispiel möglich, mit einer leeren Liste zu beginnen und Kästchen anzuhängen."
   ]
  },
  {
   "cell_type": "code",
   "execution_count": 4,
   "metadata": {},
   "outputs": [
    {
     "name": "stdout",
     "output_type": "stream",
     "text": [
      "Array h = Any[\"Bonjour!\", 1789, ℯ]\n"
     ]
    }
   ],
   "source": [
    "h = []\n",
    "append!(h, [\"Bonjour!\"])\n",
    "append!(h, 1789)\n",
    "append!(h, ℯ)\n",
    "println(\"Array h = \", h)"
   ]
  },
  {
   "cell_type": "markdown",
   "metadata": {},
   "source": [
    "Aufgabe:\n",
    "- Was passiert, wenn Sie in Zeile zwei die eckigen Klammern weglassen?"
   ]
  },
  {
   "cell_type": "markdown",
   "metadata": {},
   "source": [
    "Sie sehen hier eine Konvention, die in Julia durchgängig Verwendung findet: Funktionen, die einen Parameter verändern (hier das Array) enden mit einem Ausrufungszeichen."
   ]
  },
  {
   "cell_type": "markdown",
   "metadata": {},
   "source": [
    "Es gibt vielfältige Möglichkeiten mit Arrays zu Arbeiten, Hier ein paar Beispiele:"
   ]
  },
  {
   "cell_type": "code",
   "execution_count": 5,
   "metadata": {},
   "outputs": [
    {
     "data": {
      "text/plain": [
       "2-element Vector{Vector{Any}}:\n",
       " [π, \"Auf Wiedersehen!\", 2021]\n",
       " [π, \"Auf Wiedersehen!\", 2021]"
      ]
     },
     "metadata": {},
     "output_type": "display_data"
    },
    {
     "data": {
      "text/plain": [
       "6-element Vector{Any}:\n",
       "    π = 3.1415926535897...\n",
       "     \"Auf Wiedersehen!\"\n",
       " 2021\n",
       "    π = 3.1415926535897...\n",
       "     \"Auf Wiedersehen!\"\n",
       " 2021"
      ]
     },
     "metadata": {},
     "output_type": "display_data"
    },
    {
     "name": "stdout",
     "output_type": "stream",
     "text": [
      "fill(3)\n",
      "fill(nothing)\n"
     ]
    }
   ],
   "source": [
    "display([l, l])\n",
    "display([l; l])\n",
    "println(indexin(2021, l))\n",
    "println(indexin(2022, l))"
   ]
  },
  {
   "cell_type": "markdown",
   "metadata": {},
   "source": [
    "### Ranges\n",
    "\n",
    "Ein nützliches Objekt, das sich ähnlich wie ein Array verhält (aber keinees ist), wird mit dem Doppelpunktoperator erzeugt. Mit den ganzen Zahlen `a` und `b`\n",
    "liefert `a:b` die Sequenz\n",
    "\n",
    "$$\n",
    "    a, a + 1, \\dots, b\n",
    "$$\n",
    "\n",
    "die obere Grenze `b` ist also enthalten. Man kann mit der Form `a:inc:b` zusätzlich noch ein Inkrement angeben und erhält\n",
    "\n",
    "$$\n",
    "    a, a + inc, \\dots, b\n",
    "$$\n",
    "\n",
    "Eine Range ist ist in Julia eine eigenständiges Objekt, mit `collect` wird daraus ein Array."
   ]
  },
  {
   "cell_type": "code",
   "execution_count": 9,
   "metadata": {},
   "outputs": [
    {
     "name": "stdout",
     "output_type": "stream",
     "text": [
      "2:7\n",
      "[2, 3, 4, 5, 6, 7]\n",
      "[2, 5, 8]\n",
      "Anzahl Elemente: 6\n",
      "r[1] = 2, r[2] = 3, ... , r[4] = 5\n"
     ]
    }
   ],
   "source": [
    "r = 2:7\n",
    "println(r)\n",
    "println(collect(r))\n",
    "println(collect(2:3:10))\n",
    "\n",
    "println(\"Anzahl Elemente: \", length(r))\n",
    "println(\"r[1] = \", r[1], \", r[2] = \", r[2], \", ... , r[4] = \", r[4] )"
   ]
  },
  {
   "cell_type": "markdown",
   "metadata": {},
   "source": [
    "## Kontrollstrukturen\n",
    "\n",
    "### Verzweigungen mit if, elif und else\n",
    "\n",
    "In einer **bedingten Anweisung** wird Programmcode wird nur dann ausgeführt, wenn eine Bedingung erfüllt ist."
   ]
  },
  {
   "cell_type": "code",
   "execution_count": 10,
   "metadata": {},
   "outputs": [
    {
     "name": "stdout",
     "output_type": "stream",
     "text": [
      "Die Zahl 33 ist kleiner als 100 \n",
      "b = 133\n",
      "a = 33\n"
     ]
    }
   ],
   "source": [
    "a = 33\n",
    "\n",
    "if a < 100\n",
    "    b = 100 + a\n",
    "    println(\"Die Zahl \", a, \" ist kleiner als 100 \")\n",
    "    println(\"b = \", b)\n",
    "end\n",
    "\n",
    "println(\"a = \", a)"
   ]
  },
  {
   "cell_type": "markdown",
   "metadata": {},
   "source": [
    "Wenn nach dem `if` noch ein `else` kommt, dann spricht man von einer **Alternative**, der Block nach dem `else` wird ausgeführt, wenn\n",
    "die Bedingung nicht erfüllt ist. "
   ]
  },
  {
   "cell_type": "code",
   "execution_count": 11,
   "metadata": {},
   "outputs": [
    {
     "name": "stdout",
     "output_type": "stream",
     "text": [
      "Die Zahl 433 ist nicht kleiner als 100\n",
      "b = 333\n",
      "a = 433\n"
     ]
    }
   ],
   "source": [
    "a = 433\n",
    "\n",
    "if a < 100\n",
    "    b = 100 + a\n",
    "    println(\"Die Zahl \", a, \" ist kleiner als 100\")\n",
    "else\n",
    "    b = a - 100\n",
    "    println(\"Die Zahl \", a, \" ist nicht kleiner als 100\")\n",
    "end\n",
    "\n",
    "println(\"b = \", b)\n",
    "println(\"a = \", a)"
   ]
  },
  {
   "cell_type": "markdown",
   "metadata": {},
   "source": [
    "Mithilfe des Schlüsselworts `elseif` lassen sich **Mehrfachverzweigungen** realisieren. Hier nochmal das Beispiel der quadratischen\n",
    "Gleichung."
   ]
  },
  {
   "cell_type": "code",
   "execution_count": 12,
   "metadata": {},
   "outputs": [
    {
     "name": "stdout",
     "output_type": "stream",
     "text": [
      "Die Gleichung besitzt eine Lösung x1 = -1.0"
     ]
    }
   ],
   "source": [
    "# Eingabe\n",
    "a = 1\n",
    "b = 2\n",
    "c = 1\n",
    "\n",
    "# Diskriminante\n",
    "D = b^2 - 4 * a * c\n",
    "\n",
    "# Fälle\n",
    "if D > 0\n",
    "    x1 = (-b - sqrt(D)) / (2 * a)\n",
    "    x2 = (-b + sqrt(D)) / (2 * a)\n",
    "    print(\"Die Gleichung besitzt zwei Lösungen x1 = \", x1, \" und x2 = \", x2)\n",
    "elseif D == 0\n",
    "    x1 = -b / (2 * a)\n",
    "    print(\"Die Gleichung besitzt eine Lösung x1 = \", x1)\n",
    "else\n",
    "    print(\"Die Gleichung besitzt keine reellwertige Lösung\")\n",
    "end"
   ]
  },
  {
   "cell_type": "markdown",
   "metadata": {},
   "source": [
    "#### Logische Ausdrücke\n",
    "\n",
    "Logische Ausdrücke werden meist mithilfe der Vergleichsoperatoren `==`, `!=`, `<`, `<=`, `>` und `>=` realisiert. Mithilfe von `&&`, `||` und `!` lassen sich\n",
    "mehrere Bedingungen miteinander verknüpfen. \n",
    "\n",
    "Wir sehen das am Beispiel eines Schaltjahres:\n",
    "\n",
    "> Every year that is exactly divisible by four is a leap year, except for years that are exactly divisible by 100, but these centurial years are leap years if they are exactly divisible by 400. For example, the years 1700, 1800, and 1900 are not leap years, but the years 1600 and 2000 are."
   ]
  },
  {
   "cell_type": "code",
   "execution_count": 13,
   "metadata": {},
   "outputs": [
    {
     "name": "stdout",
     "output_type": "stream",
     "text": [
      "Das Jahr 1988 ist ein Schaltjahr"
     ]
    }
   ],
   "source": [
    "y = 1988\n",
    "\n",
    "if y % 400 == 0 || (y % 4 == 0 && !(y % 100 == 0))\n",
    "    print(\"Das Jahr \", y, \" ist ein Schaltjahr\")\n",
    "else\n",
    "    print(\"Kein Schaltjahr: \", y)\n",
    "end"
   ]
  },
  {
   "cell_type": "markdown",
   "metadata": {},
   "source": [
    "Aufgabe:\n",
    "- Wie kann man das noch ein bisschen kürzer schreiben?"
   ]
  },
  {
   "cell_type": "markdown",
   "metadata": {},
   "source": [
    "### Schleifen\n",
    "\n",
    "Bei einer ***`for` - Schleife*** steht von vorneherein fest, wie oft sie durchlaufen wird."
   ]
  },
  {
   "cell_type": "code",
   "execution_count": 14,
   "metadata": {},
   "outputs": [
    {
     "name": "stdout",
     "output_type": "stream",
     "text": [
      "Element 42\n",
      "Element π\n",
      "Element Hallo!\n",
      "Element 0.3333333333333333\n"
     ]
    }
   ],
   "source": [
    "for o in [42, π, \"Hallo!\", 1 / 3]\n",
    "    println(\"Element \" , o)\n",
    "end"
   ]
  },
  {
   "cell_type": "markdown",
   "metadata": {},
   "source": [
    "Das funktioniert auch mit Ranges:"
   ]
  },
  {
   "cell_type": "code",
   "execution_count": 15,
   "metadata": {},
   "outputs": [
    {
     "name": "stdout",
     "output_type": "stream",
     "text": [
      "1\n",
      "8\n",
      "27\n",
      "64\n",
      "125\n"
     ]
    }
   ],
   "source": [
    "for i in 1:5\n",
    "    println(i^3)\n",
    "end"
   ]
  },
  {
   "cell_type": "markdown",
   "metadata": {},
   "source": [
    "In Julia kann man den vollständigen Unicode Zeichensatz verwenden. Für viele Dinge kann daher auch ein mathematisches Symbol verwendet werden. Zum Beispiel $\\in$ in der Schleife. "
   ]
  },
  {
   "cell_type": "code",
   "execution_count": 16,
   "metadata": {},
   "outputs": [
    {
     "name": "stdout",
     "output_type": "stream",
     "text": [
      "1\n",
      "8\n",
      "27\n",
      "64\n",
      "125\n"
     ]
    }
   ],
   "source": [
    "for i ∈ 1:5\n",
    "    println(i^3)\n",
    "end"
   ]
  },
  {
   "cell_type": "markdown",
   "metadata": {},
   "source": [
    "Diese Schreibweise bringt sehr schön zum Ausdruck, dass i nacheinander den Wert aller Elemente einer Liste annimmt."
   ]
  },
  {
   "cell_type": "markdown",
   "metadata": {},
   "source": [
    "Manchmal ist es wichtig zu wissen, an welcher Position ein Element der Liste steht. In diesem Fall verwendet man eine \n",
    "Zählvariable (in der Regel `i`, `j` oder `k`) in Kombination mit dem `:` - Operator und häufig auch `length`."
   ]
  },
  {
   "cell_type": "code",
   "execution_count": 17,
   "metadata": {},
   "outputs": [
    {
     "name": "stdout",
     "output_type": "stream",
     "text": [
      "i = 1, l[i] = π\n",
      "i = 2, l[i] = Auf Wiedersehen!\n",
      "i = 3, l[i] = 2021\n"
     ]
    }
   ],
   "source": [
    "for i in 1:length(l)\n",
    "    println(\"i = \", i, \", l[i] = \", l[i])\n",
    "end"
   ]
  },
  {
   "cell_type": "markdown",
   "metadata": {},
   "source": [
    "Bei einer `while` - Schleife werden Anweisungen so lange ausgeführt wie eine Fortsetzungsbeding erfüllt ist. Sehr häufig werden `while` - Schleifen \n",
    "bei numerischen Näherungsverfahren verwendet, zum Beispiel bei der Berechnung einer Quadratwurzel mit dem Heron-Verfahren."
   ]
  },
  {
   "cell_type": "code",
   "execution_count": 18,
   "metadata": {},
   "outputs": [
    {
     "name": "stdout",
     "output_type": "stream",
     "text": [
      "Zwischenergebnis: 1.5\n",
      "Zwischenergebnis: 1.4166666666666665\n",
      "Zwischenergebnis: 1.4142156862745097\n",
      "Zwischenergebnis: 1.4142135623746899\n",
      "Zwischenergebnis: 1.414213562373095\n",
      "Ergebnis: x = 1.414213562373095 mit x^2 = 1.9999999999999996"
     ]
    }
   ],
   "source": [
    "# Wir suchen die Wurzel aus dieser Zahl\n",
    "a = 2\n",
    "\n",
    "# Startwert für die Näherungslösung\n",
    "x = 1\n",
    "\n",
    "# Iteration\n",
    "while abs(x^2 - a) > 1e-15\n",
    "    x = 0.5 * (x + a / x)\n",
    "    println(\"Zwischenergebnis: \", x)\n",
    "end\n",
    "\n",
    "# Ergebnis\n",
    "print(\"Ergebnis: x = \", x, \" mit x^2 = \", x^2)"
   ]
  },
  {
   "cell_type": "markdown",
   "metadata": {},
   "source": [
    "Dafür, welche der beiden Arten von Schleifen verwendet werden soll gibt es eine einfach Regel:\n",
    "- Verwenden Sie eine `for` - Schleife, wenn vorab bekannt ist, wie oft die Schleife durchlaufen werden soll. Dies ist insbesondere\n",
    "bei der Verarbeitung von Listen der Fall.\n",
    "- Andernfalls ist meist eine `while` - Schleife sinnvoll."
   ]
  },
  {
   "cell_type": "markdown",
   "metadata": {},
   "source": [
    "## Funktionen\n",
    "\n",
    "Eine Funktion fasst Anweisungen so zusammen, so dass Sie mit unterschiedlichen Eingabewerten ausgeführt werden können. Hier ein Beispiel, in dem\n",
    "der größte gemeinsame Teiler von zwei ganzen Zahlen bestimmt wird ([Verfahren von Euklid](https://de.wikipedia.org/wiki/Euklidischer_Algorithmus))."
   ]
  },
  {
   "cell_type": "code",
   "execution_count": 19,
   "metadata": {},
   "outputs": [
    {
     "name": "stdout",
     "output_type": "stream",
     "text": [
      "GGT von 33 und 88 ist 11"
     ]
    }
   ],
   "source": [
    "function ggt(a, b)\n",
    "    while b != 0\n",
    "        h = a % b\n",
    "        a = b\n",
    "        b = h\n",
    "    end\n",
    "    return a\n",
    "end\n",
    "\n",
    "print(\"GGT von 33 und 88 ist \", ggt(33, 88))"
   ]
  },
  {
   "cell_type": "markdown",
   "metadata": {},
   "source": [
    "Eine Funktion beginnt also mit dem Schlüsselwort `function` gefolgt von dem Funktionsnamen, einer Parameterliste. Danach kommen\n",
    " die Anweisungen im Rumpf der Funktion, gefolgt von einem `end`. Das berechnete Ergebnis wird mit `return` zurück gegeben (`return` kann man ggf. auch weglassen)."
   ]
  },
  {
   "cell_type": "markdown",
   "metadata": {},
   "source": [
    "Kurze Funktionen kann man auch in der aus der Mathematik bekannten Schreibweise definieren."
   ]
  },
  {
   "cell_type": "code",
   "execution_count": 20,
   "metadata": {},
   "outputs": [
    {
     "data": {
      "text/plain": [
       "13"
      ]
     },
     "execution_count": 20,
     "metadata": {},
     "output_type": "execute_result"
    }
   ],
   "source": [
    "f(x, y) = x^2 + y^2\n",
    "\n",
    "f(2, 3)"
   ]
  },
  {
   "cell_type": "markdown",
   "metadata": {},
   "source": [
    "### Funktionen in eigenen Dateien\n",
    "\n",
    "Sollen Funktionen in mehreren Jupyter Notebooks verwendet werden, dann kann man sie in eine eigene Julia-Datei auslagern. Zum Beispiel enthält die (im selben \n",
    "Ordner wie die Jupyter Notebooks) liegende Datei\n",
    "`number_functions.jl` (Zip-Datei von Moodle herunterladen) Funktionen aus dem Bereich der Zahlentheorie. Um diese zu verwenden müssen sie zunächst importiert werden."
   ]
  },
  {
   "cell_type": "code",
   "execution_count": 21,
   "metadata": {},
   "outputs": [
    {
     "name": "stdout",
     "output_type": "stream",
     "text": [
      "2 ist prim: true\n",
      "11 ist prim: true\n",
      "111 ist prim: false\n",
      "Primfaktoren von 126: Any[2, 3, 3, 7]\n",
      "Primfaktoren für die Zahlen von 1 bis 10000 sind OK\n"
     ]
    }
   ],
   "source": [
    "include(\"numberfunctions.jl\")\n",
    "\n",
    "# Funktionen verwenden\n",
    "println(\"2 ist prim: \", isprime(2))\n",
    "println(\"11 ist prim: \", isprime(11))\n",
    "println(\"111 ist prim: \", isprime(111))\n",
    "println(\"Primfaktoren von 126: \", primefactors(126))\n",
    "\n",
    "# Test der Funktion isprime\n",
    "passed = true\n",
    "for n in 1:10000\n",
    "    product = 1\n",
    "    factors = primefactors(n)\n",
    "    for f in factors\n",
    "        product *= f\n",
    "        if !isprime(f)\n",
    "            println(\"n = \", n, \": Faktor\", f, \" ist nicht prim\")\n",
    "            passed = false\n",
    "        end\n",
    "    end\n",
    "    if product != n\n",
    "        println(\"n = \", n, \": Nicht Produkt der Primfaktoren: \", n)\n",
    "        passed = false\n",
    "    end\n",
    "end\n",
    "if passed\n",
    "    println(\"Primfaktoren für die Zahlen von 1 bis 10000 sind OK\")\n",
    "end\n"
   ]
  },
  {
   "cell_type": "markdown",
   "metadata": {},
   "source": [
    "### Mehrere Rückgabewerte\n",
    "\n",
    "Funktionen können in Julia mehrere Werte zurückgeben. Das Funktioniert so:\n",
    "\n",
    "* In der Return-Anweisung stehen mehrere Variablen durch Kommas getrennt\n",
    "\n",
    "* Beim Aufruf der Funktion stehen links vom Gleichheitszeichen ebenfalls mehrere Variablen, getrennt durch Kommas get\n",
    "\n",
    "* Die Anzahl der Variablen in der Return-Anweisung und beim Aufruf muss übereinstimmen, die Namen dürfen frei gewählt werden\n",
    "\n",
    "Hier nochmals das Beispiel mit der quadratischen Gleichung, diesmal in einer Funktion."
   ]
  },
  {
   "cell_type": "code",
   "execution_count": 22,
   "metadata": {},
   "outputs": [
    {
     "name": "stdout",
     "output_type": "stream",
     "text": [
      "Lösungen: x1 = -1.0 und x2 = 3.0"
     ]
    }
   ],
   "source": [
    "function qroots(a, b, c)\n",
    "    d = sqrt(b^2 - 4 * a * c)\n",
    "    x1 = (-b - d) / (2 * a)\n",
    "    x2 = (-b + d) / (2 * a)\n",
    "    return x1, x2\n",
    "end\n",
    "x1, x2 = qroots(1, -2, -3)\n",
    "print(\"Lösungen: x1 = \", x1, \" und x2 = \", x2)"
   ]
  },
  {
   "cell_type": "markdown",
   "metadata": {},
   "source": [
    "### Parametrisierte Funktionen\n",
    "\n",
    "Aus der Mathematik kennen Sie Funktionenscharen der Form\n",
    "\n",
    "$$\n",
    "    f_n(x) = (1 - x/n)^2.\n",
    "$$\n",
    "\n",
    "Gemeint ist damit, dass wir für jede Zahl $n$ eine Funktion $f_n$ erhalten, zum Beispiel\n",
    "\n",
    "$$\n",
    "    f_1(x) = (1 - x) ^ 2 \\quad \\text{oder} \\quad f_5(x) = (1 - x / 5)^2.\n",
    "$$\n",
    "\n",
    "In Julia lässt sich das durch eine Funktion realisieren, die eine Funktion zurückliefert. Für unser Beispiel\n",
    "sieht das so aus:"
   ]
  },
  {
   "cell_type": "code",
   "execution_count": 23,
   "metadata": {},
   "outputs": [
    {
     "name": "stdout",
     "output_type": "stream",
     "text": [
      "f1(2) = 1.0\n",
      "f5(2) = 0.36\n"
     ]
    }
   ],
   "source": [
    "function makefn(n)\n",
    "    function fn(x)\n",
    "        return (1 - x / n)^2\n",
    "    end\n",
    "    return fn\n",
    "end\n",
    "\n",
    "f1 = makefn(1)\n",
    "f5 = makefn(5)\n",
    "\n",
    "println(\"f1(2) = \", f1(2))\n",
    "println(\"f5(2) = \", f5(2))"
   ]
  },
  {
   "cell_type": "markdown",
   "metadata": {},
   "source": [
    "## Weiterführende Themen\n",
    "\n",
    "### Mehrfachvariablen\n",
    "\n",
    "Es gibt Situationen, in denen verschiedene Werte zusammengehören, wie das zum Beispiel bei einem Quader mit Länge, Breite und Höhe der Fall ist. Hier bietet es sich an, die Werte in einem einzelnen Objekt zusammenzufassen, wie das mit dem `objdict`-Paket und der Klasse `ObjDict` möglich ist. Hier ein Beispiel. "
   ]
  },
  {
   "cell_type": "code",
   "execution_count": 24,
   "metadata": {},
   "outputs": [
    {
     "name": "stdout",
     "output_type": "stream",
     "text": [
      "Box(3, 2, 5)\n",
      "Volume V = 30\n"
     ]
    }
   ],
   "source": [
    "struct Box \n",
    "    length \n",
    "    width\n",
    "    height\n",
    "end\n",
    "\n",
    "# Define struct\n",
    "q = Box(3, 2, 5)\n",
    "\n",
    "# Print\n",
    "println(q)\n",
    "\n",
    "# Compute volume and print\n",
    "v = q.length * q.width * q.height\n",
    "println(\"Volume V = \", v)"
   ]
  },
  {
   "cell_type": "markdown",
   "metadata": {},
   "source": [
    "Mit dem `Revise`-Paket kann der Code mehrfach ausgeführt werden, ohne dass Julia sich über die neue Deklaration von Box beschwert. Am besten, man erledigt das automatisch.\n",
    "\n",
    "Hier die Anleitung von https://quarto.org/docs/computations/julia.html#installation:\n",
    "\n",
    "To configure Revise to launch automatically within IJulia, create a .julia/config/startup_ijulia.jl file with the contents:\n",
    "\n",
    "```\n",
    "try\n",
    "  @eval using Revise\n",
    "catch e\n",
    "  @warn \"Revise init\" exception=(e, catch_backtrace())\n",
    "end\n",
    "```"
   ]
  },
  {
   "cell_type": "markdown",
   "metadata": {},
   "source": []
  }
 ],
 "metadata": {
  "kernelspec": {
   "display_name": "Julia 1.8.1",
   "language": "julia",
   "name": "julia-1.8"
  },
  "language_info": {
   "file_extension": ".jl",
   "mimetype": "application/julia",
   "name": "julia",
   "version": "1.8.1"
  },
  "orig_nbformat": 4,
  "vscode": {
   "interpreter": {
    "hash": "c6e4e9f98eb68ad3b7c296f83d20e6de614cb42e90992a65aa266555a3137d0d"
   }
  }
 },
 "nbformat": 4,
 "nbformat_minor": 2
}
