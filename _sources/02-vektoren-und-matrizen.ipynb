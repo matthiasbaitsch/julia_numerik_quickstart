{
 "cells": [
  {
   "cell_type": "markdown",
   "metadata": {},
   "source": [
    "# Rechnen mit Vektoren und Matrizen\n",
    "\n",
    "In numerischen Anwendungen sind Matrizen und Vektoren allgegenwärtig. In Julia sind die entsprechenden Datentypen und Operationen änlich wie in Matlab eingebaut. Allerdings müssen für bestimmte Aufgaben Pakete importiert werden."
   ]
  },
  {
   "cell_type": "markdown",
   "metadata": {},
   "source": [
    "## Grundlagen\n",
    "\n",
    "In Julia sind Vektoren und Matrizen Spezialfälle von $n$-dimensionalen Arrays für einen Vektor gilt $n = 1$ und für eine Matrix $n = 2$.\n",
    "Uns wird das in der Regel ausreichen aber prinzipiell kann man auch mit fünfdimensionalen Arrays rechnen.\n",
    "\n",
    "### Erzeugen\n",
    "\n",
    "Eine erste Möglichkeit Vektoren und Matrizen zu erzeugen besteht darin, die **Einträge direkt anzugeben**:"
   ]
  },
  {
   "cell_type": "code",
   "execution_count": 13,
   "metadata": {},
   "outputs": [],
   "source": [
    "u = [1 2 3]\n",
    "x = [5; 1; 9; 2]\n",
    "y = [1; 2; 1; 3]\n",
    "A = [1 2 3 4; 7 6 5 4; 6 4 6 4]\n",
    "B = [2 1; 5 6; 9 1];"
   ]
  },
  {
   "cell_type": "markdown",
   "metadata": {},
   "source": [
    "Damit haben wir den Zeilenvektor u erzeugt (eine $1 \\times 3$ Matrix)"
   ]
  },
  {
   "cell_type": "code",
   "execution_count": 14,
   "metadata": {},
   "outputs": [
    {
     "data": {
      "text/plain": [
       "1×3 Matrix{Int64}:\n",
       " 1  2  3"
      ]
     },
     "execution_count": 14,
     "metadata": {},
     "output_type": "execute_result"
    }
   ],
   "source": [
    "u"
   ]
  },
  {
   "cell_type": "markdown",
   "metadata": {},
   "source": [
    "Demgegenüber entsprechen x und y den Vektoren, wie sie überlicherweise in der Mathematik verwendet werden:"
   ]
  },
  {
   "cell_type": "code",
   "execution_count": 15,
   "metadata": {},
   "outputs": [
    {
     "data": {
      "text/plain": [
       "4-element Vector{Int64}:\n",
       " 5\n",
       " 1\n",
       " 9\n",
       " 2"
      ]
     },
     "execution_count": 15,
     "metadata": {},
     "output_type": "execute_result"
    }
   ],
   "source": [
    "x"
   ]
  },
  {
   "cell_type": "code",
   "execution_count": 16,
   "metadata": {},
   "outputs": [
    {
     "data": {
      "text/plain": [
       "4-element Vector{Int64}:\n",
       " 1\n",
       " 2\n",
       " 1\n",
       " 3"
      ]
     },
     "execution_count": 16,
     "metadata": {},
     "output_type": "execute_result"
    }
   ],
   "source": [
    "y"
   ]
  },
  {
   "cell_type": "markdown",
   "metadata": {},
   "source": [
    "Bei A und B handelt es sich um \"normale\" Matrizen"
   ]
  },
  {
   "cell_type": "code",
   "execution_count": 17,
   "metadata": {},
   "outputs": [
    {
     "data": {
      "text/plain": [
       "3×4 Matrix{Int64}:\n",
       " 1  2  3  4\n",
       " 7  6  5  4\n",
       " 6  4  6  4"
      ]
     },
     "execution_count": 17,
     "metadata": {},
     "output_type": "execute_result"
    }
   ],
   "source": [
    "A"
   ]
  },
  {
   "cell_type": "markdown",
   "metadata": {},
   "source": [
    "Aufgabe\n",
    "- Wie funktioniert die Eingabe?"
   ]
  },
  {
   "cell_type": "markdown",
   "metadata": {},
   "source": [
    "Weiterhin gibt es Funktionen, mit denen sich **spezielle Matrizen und Vektoren** anlegen lassen."
   ]
  },
  {
   "cell_type": "code",
   "execution_count": 18,
   "metadata": {},
   "outputs": [
    {
     "name": "stdout",
     "output_type": "stream",
     "text": [
      "    Nullvektor: [0.0, 0.0, 0.0]\n",
      "    Nullmatrix: [0.0 0.0 0.0; 0.0 0.0 0.0]\n",
      "    Einsmatrix: [1.0 1.0; 1.0 1.0; 1.0 1.0; 1.0 1.0]\n"
     ]
    }
   ],
   "source": [
    "println(\"    Nullvektor: \", zeros(3))\n",
    "println(\"    Nullmatrix: \", zeros(2, 3))\n",
    "println(\"    Einsmatrix: \", ones(4, 2))"
   ]
  },
  {
   "cell_type": "markdown",
   "metadata": {},
   "source": [
    "Auf die Einheitsmatrix werden wir später eingehen."
   ]
  },
  {
   "cell_type": "markdown",
   "metadata": {},
   "source": [
    "Praktisch ist die Funktion `range`, die ein Intervall von $a$ bis $b$ in $n - 1$ gleichlange Abschnitte unterteilt."
   ]
  },
  {
   "cell_type": "code",
   "execution_count": 19,
   "metadata": {},
   "outputs": [
    {
     "data": {
      "text/plain": [
       "1.0:0.8:5.0"
      ]
     },
     "execution_count": 19,
     "metadata": {},
     "output_type": "execute_result"
    }
   ],
   "source": [
    "x = range(1, 5, 6)"
   ]
  },
  {
   "cell_type": "markdown",
   "metadata": {},
   "source": [
    "Es handelt sich wieder um ein spezielles Objekt für das die einzelnen Werte erst berechnet werden, wenn man sie braucht. Mit `collect` wird daraus wieder ein Vektor."
   ]
  },
  {
   "cell_type": "code",
   "execution_count": 20,
   "metadata": {},
   "outputs": [
    {
     "data": {
      "text/plain": [
       "6-element Vector{Float64}:\n",
       " 1.0\n",
       " 1.8\n",
       " 2.6\n",
       " 3.4\n",
       " 4.2\n",
       " 5.0"
      ]
     },
     "execution_count": 20,
     "metadata": {},
     "output_type": "execute_result"
    }
   ],
   "source": [
    "collect(x)"
   ]
  },
  {
   "cell_type": "markdown",
   "metadata": {},
   "source": [
    "### Eigenschaften von Arrays\n",
    "\n",
    "Die Eigenschaften eines Arrays lassen sich mit verschiedenen Funktionen abfragen."
   ]
  },
  {
   "cell_type": "code",
   "execution_count": 21,
   "metadata": {},
   "outputs": [
    {
     "name": "stdout",
     "output_type": "stream",
     "text": [
      "length(x) = 6\n",
      "ndims(A) = 2\n",
      "size(A) = (3, 4)\n",
      "size(A, 1) = 3\n",
      "size(A, 2) = 4\n"
     ]
    }
   ],
   "source": [
    "println(\"length(x) = \", length(x))\n",
    "println(\"ndims(A) = \", ndims(A))\n",
    "println(\"size(A) = \", size(A))\n",
    "println(\"size(A, 1) = \", size(A, 1))\n",
    "println(\"size(A, 2) = \", size(A, 2))"
   ]
  },
  {
   "cell_type": "markdown",
   "metadata": {},
   "source": [
    "### Auf Einträge zugreifen\n",
    "\n",
    "Um auf die Einträge von Arrays zuzugreifen verwendet man eckige Klammern `[]`, die Indizierung\n",
    "beginnt bei 1. Bei Matrizen werden Zeilen- und Spaltenindex durch ein Komma getrennt."
   ]
  },
  {
   "cell_type": "code",
   "execution_count": 22,
   "metadata": {},
   "outputs": [
    {
     "name": "stdout",
     "output_type": "stream",
     "text": [
      "A = [1 999 3 4; 7 6 5 4; 6 4 6 4]\n",
      "x[0] = 1.8\n"
     ]
    }
   ],
   "source": [
    "A[1, 2] = 999\n",
    "println(\"A = \", A)\n",
    "println(\"x[0] = \", x[2])"
   ]
  },
  {
   "cell_type": "markdown",
   "metadata": {},
   "source": [
    "Mit `end` wird vom Ende des Arrays gezählt. Dabei liefert `end` das letzte Element, `end - 1` das vorletzte, usw."
   ]
  },
  {
   "cell_type": "code",
   "execution_count": 23,
   "metadata": {},
   "outputs": [
    {
     "name": "stdout",
     "output_type": "stream",
     "text": [
      "A = [1 999 3 4; 7 6 5 4; 6 4 6 4]\n",
      "A[end, end-2] = 6\n"
     ]
    }
   ],
   "source": [
    "println(\"A = \", A)\n",
    "println(\"A[end, end-2] = \", A[end, end - 1])"
   ]
  },
  {
   "cell_type": "markdown",
   "metadata": {},
   "source": [
    "Häufig möchte man in einem Rechenschritt auf mehrere Einträge eines Arrays gleichzeitig zugreifen. Hierfür gibt es zwei Möglichkeiten:\n",
    "\n",
    "- Den Doppelpunkt-Operator\n",
    "- Die Indizierung mithilfe von Integer-Arrays \n",
    "\n",
    "#### Doppelpunkt-Operator\n",
    "\n",
    "Die Schreibweisen `start:stop` oder `start:inc:stop` zur Erzeugung einer Sequenz von Zahlen haben wir bereits kennengelernt. Eine solche Sequenz kann zur Indizierung verwendet werden:"
   ]
  },
  {
   "cell_type": "code",
   "execution_count": 24,
   "metadata": {},
   "outputs": [
    {
     "name": "stdout",
     "output_type": "stream",
     "text": [
      "y = [9, 3, 5, 1, 7, 4, 99]\n",
      "y[2:4] = [3, 5, 1, 7]\n",
      "y[3:end] = [5, 1, 7, 4, 99]\n"
     ]
    }
   ],
   "source": [
    "y = [9; 3; 5; 1; 7; 4; 99];\n",
    "println(\"y = \", y)\n",
    "println(\"y[2:4] = \", y[2:5])\n",
    "println(\"y[3:end] = \", y[3:end])"
   ]
  },
  {
   "cell_type": "markdown",
   "metadata": {},
   "source": [
    "Offenbar kann man auch hier wieder `end` verwenden."
   ]
  },
  {
   "cell_type": "markdown",
   "metadata": {},
   "source": [
    "Die Adressierung mit dem Doppelpunkt funktioniert auch bei Zuweisungen. Hier ein Beispiel:"
   ]
  },
  {
   "cell_type": "code",
   "execution_count": 25,
   "metadata": {},
   "outputs": [
    {
     "name": "stdout",
     "output_type": "stream",
     "text": [
      "A =\n"
     ]
    },
    {
     "data": {
      "text/plain": [
       "3×4 Matrix{Int64}:\n",
       " 1   2   3   4\n",
       " 5   6   7   8\n",
       " 9  10  11  12"
      ]
     },
     "metadata": {},
     "output_type": "display_data"
    },
    {
     "name": "stdout",
     "output_type": "stream",
     "text": [
      "A =\n"
     ]
    },
    {
     "data": {
      "text/plain": [
       "3×4 Matrix{Int64}:\n",
       " 1   2  11  22\n",
       " 5   6  77  88\n",
       " 9  10  99  11"
      ]
     },
     "metadata": {},
     "output_type": "display_data"
    }
   ],
   "source": [
    "A = [1 2 3 4; 5 6 7 8; 9 10 11 12]\n",
    "println(\"A =\")\n",
    "display(A)\n",
    "A[1:3, 3:4] = [11 22; 77 88; 99 11]\n",
    "println(\"A =\")\n",
    "display(A)\n"
   ]
  },
  {
   "cell_type": "markdown",
   "metadata": {},
   "source": [
    "Wichtig dabei ist, dass die Dimensionen links und rechts vom Gleichheitszeichen zusammenpassen."
   ]
  },
  {
   "cell_type": "markdown",
   "metadata": {},
   "source": [
    "#### Index-Arrays\n",
    "\n",
    "Mithilfe von Index-Arrays lassen sich nicht-fortlaufende Bereiche adressieren"
   ]
  },
  {
   "cell_type": "code",
   "execution_count": 26,
   "metadata": {},
   "outputs": [
    {
     "name": "stdout",
     "output_type": "stream",
     "text": [
      "x = [1 2 3 4 5 6 7]\n",
      "x = [11 2 33 4 5 6 77]\n"
     ]
    }
   ],
   "source": [
    "x = [1 2 3 4 5 6 7]\n",
    "println(\"x = \", x)\n",
    "x[[1 3 7]] = [11 33 77]\n",
    "println(\"x = \", x)"
   ]
  },
  {
   "cell_type": "markdown",
   "metadata": {},
   "source": [
    "## Rechnen mit Matrizen und Vektoren\n",
    "\n",
    "In Julia ist es möglich, Rechnungen mit Matrizen und Vektoren sehr kompakt und fast wie auf dem Papier aufzuschreiben.\n",
    "\n",
    "### Rechenoperation\n",
    "\n",
    "Die mathematischen Operatoren `+, -, *` sind fast so definiert, wie wir das aus der Mathematik kennen, wobei man für das Matrix-Vektor-Produkt $\\mathbf{A}\\mathbf{x}$ in Julia `A*x` schreibt."
   ]
  },
  {
   "cell_type": "code",
   "execution_count": 41,
   "metadata": {},
   "outputs": [
    {
     "data": {
      "text/plain": [
       "3-element Vector{Int64}:\n",
       " 5\n",
       " 1\n",
       " 6"
      ]
     },
     "execution_count": 41,
     "metadata": {},
     "output_type": "execute_result"
    }
   ],
   "source": [
    "x = [5; 1; 6]"
   ]
  },
  {
   "cell_type": "code",
   "execution_count": 28,
   "metadata": {},
   "outputs": [
    {
     "data": {
      "text/plain": [
       "3-element Vector{Int64}:\n",
       "  9\n",
       " 13\n",
       "  8"
      ]
     },
     "execution_count": 28,
     "metadata": {},
     "output_type": "execute_result"
    }
   ],
   "source": [
    "y = [9; 13; 8]"
   ]
  },
  {
   "cell_type": "code",
   "execution_count": 29,
   "metadata": {},
   "outputs": [
    {
     "data": {
      "text/plain": [
       "2×3 Matrix{Int64}:\n",
       " 1  2  3\n",
       " 5  4  3"
      ]
     },
     "execution_count": 29,
     "metadata": {},
     "output_type": "execute_result"
    }
   ],
   "source": [
    "A = [1 2 3; 5 4 3]"
   ]
  },
  {
   "cell_type": "code",
   "execution_count": 30,
   "metadata": {},
   "outputs": [
    {
     "data": {
      "text/plain": [
       "3×2 Matrix{Int64}:\n",
       " 1  1\n",
       " 2  2\n",
       " 3  3"
      ]
     },
     "execution_count": 30,
     "metadata": {},
     "output_type": "execute_result"
    }
   ],
   "source": [
    "B = [1 1; 2 2; 3 3]"
   ]
  },
  {
   "cell_type": "code",
   "execution_count": 31,
   "metadata": {},
   "outputs": [
    {
     "data": {
      "text/plain": [
       "3-element Vector{Int64}:\n",
       " 23\n",
       " 27\n",
       " 22"
      ]
     },
     "execution_count": 31,
     "metadata": {},
     "output_type": "execute_result"
    }
   ],
   "source": [
    "x + 2*y"
   ]
  },
  {
   "cell_type": "markdown",
   "metadata": {},
   "source": [
    "Eine Besonderheit in Julia ist, dass man das *-Zeichen zwischen einer Zahl und einer Variablen auch weglassen kann:"
   ]
  },
  {
   "cell_type": "code",
   "execution_count": 34,
   "metadata": {},
   "outputs": [
    {
     "data": {
      "text/plain": [
       "3-element Vector{Int64}:\n",
       "   7\n",
       " -21\n",
       "  14"
      ]
     },
     "execution_count": 34,
     "metadata": {},
     "output_type": "execute_result"
    }
   ],
   "source": [
    "5x - 2y"
   ]
  },
  {
   "cell_type": "code",
   "execution_count": 32,
   "metadata": {},
   "outputs": [
    {
     "data": {
      "text/plain": [
       "2-element Vector{Int64}:\n",
       " 25\n",
       " 47"
      ]
     },
     "execution_count": 32,
     "metadata": {},
     "output_type": "execute_result"
    }
   ],
   "source": [
    "A*x"
   ]
  },
  {
   "cell_type": "code",
   "execution_count": 33,
   "metadata": {},
   "outputs": [
    {
     "data": {
      "text/plain": [
       "2×2 Matrix{Int64}:\n",
       " 14  14\n",
       " 22  22"
      ]
     },
     "execution_count": 33,
     "metadata": {},
     "output_type": "execute_result"
    }
   ],
   "source": [
    "A*B"
   ]
  },
  {
   "cell_type": "markdown",
   "metadata": {},
   "source": [
    "Mit einem angehängten Apostroph `'` wird eine Matrix oder eines Vektors transponiert."
   ]
  },
  {
   "cell_type": "code",
   "execution_count": 43,
   "metadata": {},
   "outputs": [
    {
     "data": {
      "text/plain": [
       "3×2 adjoint(::Matrix{Int64}) with eltype Int64:\n",
       " 1  5\n",
       " 2  4\n",
       " 3  3"
      ]
     },
     "execution_count": 43,
     "metadata": {},
     "output_type": "execute_result"
    }
   ],
   "source": [
    "A'"
   ]
  },
  {
   "cell_type": "code",
   "execution_count": 44,
   "metadata": {},
   "outputs": [
    {
     "data": {
      "text/plain": [
       "1×3 adjoint(::Vector{Int64}) with eltype Int64:\n",
       " 5  1  6"
      ]
     },
     "execution_count": 44,
     "metadata": {},
     "output_type": "execute_result"
    }
   ],
   "source": [
    "x'"
   ]
  },
  {
   "cell_type": "markdown",
   "metadata": {},
   "source": [
    "Dabei ist die Transponierte eines Vektors ein Zeilenvektor, lassen Sie sich von dem Wort `adjoint` nicht abschrecken, für uns hat es keine tiefergehende Bedeutung."
   ]
  },
  {
   "cell_type": "markdown",
   "metadata": {},
   "source": [
    "### Elementweise Operationen\n",
    "\n",
    "Manchmal möchte man Operationen elementweise anwenden, zum Beispiel zu jedem Eintrag des Vektors eine Zahl addieren oder für alle Einträge den Sinus berechnen. Hierzu wird in Julia (das ist durchgängig so) an die Funktion oder den Operator ein Punkt angehängt (in Matlab gibt es die Konvention auch, dort ist sie aber nicht durchgängig umgesetzt)."
   ]
  },
  {
   "cell_type": "code",
   "execution_count": 36,
   "metadata": {},
   "outputs": [
    {
     "data": {
      "text/plain": [
       "3-element Vector{Int64}:\n",
       " 10\n",
       "  6\n",
       " 11"
      ]
     },
     "execution_count": 36,
     "metadata": {},
     "output_type": "execute_result"
    }
   ],
   "source": [
    "x .+ 5"
   ]
  },
  {
   "cell_type": "code",
   "execution_count": 37,
   "metadata": {},
   "outputs": [
    {
     "data": {
      "text/plain": [
       "3-element Vector{Float64}:\n",
       " -0.9589242746631385\n",
       "  0.8414709848078965\n",
       " -0.27941549819892586"
      ]
     },
     "execution_count": 37,
     "metadata": {},
     "output_type": "execute_result"
    }
   ],
   "source": [
    "sin.(x)"
   ]
  },
  {
   "cell_type": "markdown",
   "metadata": {},
   "source": [
    "Das Prinzip funktioniert auch wenn beide Operanden Arrays sind, zum Beispiel führt `.*` eine Elementweise Multiplikation aus."
   ]
  },
  {
   "cell_type": "code",
   "execution_count": 39,
   "metadata": {},
   "outputs": [
    {
     "data": {
      "text/plain": [
       "3-element Vector{Int64}:\n",
       " 45\n",
       " 13\n",
       " 48"
      ]
     },
     "execution_count": 39,
     "metadata": {},
     "output_type": "execute_result"
    }
   ],
   "source": [
    "x .* y"
   ]
  },
  {
   "cell_type": "markdown",
   "metadata": {},
   "source": [
    "### Lineare Algebra\n",
    "\n",
    "Um Funktionen aus dem Gebiet der Linearen Algebra zu nutzen, wird zunächst das entsprechende Paket importiert."
   ]
  },
  {
   "cell_type": "code",
   "execution_count": 2,
   "metadata": {},
   "outputs": [],
   "source": [
    "using LinearAlgebra"
   ]
  },
  {
   "cell_type": "markdown",
   "metadata": {},
   "source": [
    "Das Skalarprodukt von zwei Vektor berechnet `dot` oder der `⋅` (Eingabe mit `\\cdot`)"
   ]
  },
  {
   "cell_type": "code",
   "execution_count": 47,
   "metadata": {},
   "outputs": [
    {
     "name": "stdout",
     "output_type": "stream",
     "text": [
      "x ⋅ y = 106\n",
      "dot(x, y) = 106\n"
     ]
    }
   ],
   "source": [
    "println(\"x ⋅ y = \", x ⋅ y)\n",
    "println(\"dot(x, y) = \", dot(x, y))"
   ]
  },
  {
   "cell_type": "markdown",
   "metadata": {},
   "source": [
    "während es für das Kreuzprodukt kein eigenes Symbol gibt"
   ]
  },
  {
   "cell_type": "code",
   "execution_count": 5,
   "metadata": {},
   "outputs": [
    {
     "name": "stdout",
     "output_type": "stream",
     "text": [
      "u = [3, 2, 1]\n",
      "v = [5, -1, 4]\n",
      "w = (u x v) = [9, -7, -13]\n",
      "Natürlich gilt u ⋅ w = 0 und v ⋅ w = 0\n"
     ]
    }
   ],
   "source": [
    "u = [3; 2; 1]\n",
    "v = [5; -1; 4]\n",
    "w = cross(u, v)\n",
    "\n",
    "println(\"u = \", u)\n",
    "println(\"v = \", v)\n",
    "println(\"w = (u x v) = \", w)\n",
    "println(\"Natürlich gilt u ⋅ w = \", u ⋅ w, \" und v ⋅ w = \", v ⋅ w)"
   ]
  },
  {
   "cell_type": "markdown",
   "metadata": {},
   "source": [
    "Lineare Gleichungssysteme lassen sich mit dem `\\` - Operator lösen."
   ]
  },
  {
   "cell_type": "code",
   "execution_count": 9,
   "metadata": {},
   "outputs": [
    {
     "data": {
      "text/plain": [
       "2-element Vector{Float64}:\n",
       " -0.14285714285714288\n",
       "  2.857142857142857"
      ]
     },
     "execution_count": 9,
     "metadata": {},
     "output_type": "execute_result"
    }
   ],
   "source": [
    "A = [5  2; 6 1]\n",
    "b = [5; 2]\n",
    "x = A \\ b"
   ]
  },
  {
   "cell_type": "markdown",
   "metadata": {},
   "source": [
    "Die Verwendung des `\\`-Operators kann man sich schlecht merken (findet der Autor). Vielleicht hilft folgende Erklärung. Auf Englisch heißt der Operator _left-division_ Operator, was sich folgendermaßen verstehen lässt. Wir beginnen mit dem einfachen Fall der skalaren Gleichung $ax = b$, die man dadurch löst, dass man auf beiden Seiten durch $a$ dividiert und damit $ax / a = b / a$ also $x = b/a$ erhält. Für die Vektorgleichung\n",
    "\n",
    "$$\n",
    "    \\mathbf{A}\\mathbf{x} = \\mathbf{b}\n",
    "$$\n",
    "\n",
    "kann man aber nicht einfach durch $\\mathbf{A}$ teilen. Man schreibt stattdessen\n",
    "\n",
    "$$\n",
    "    \\mathbf{A} \\backslash \\mathbf{A} \\mathbf{x} = \\mathbf{A} \\backslash \\mathbf{b}\n",
    "$$\n",
    "\n",
    "und meint mit $\\mathbf{A} \\backslash$ nichts anderes als die Multiplikation mit der Inversen $\\mathbf{A}^1$. Also sozusagen dividieren von links, daher der Divisionsstrich in die andere Richtung. Mit dieser Überlegung ist\n",
    "\n",
    "$$\n",
    "    \\underbrace{\\mathbf{A} \\backslash \\mathbf{A}}_\\mathbf{I} \\mathbf{x} = \\mathbf{A} \\backslash \\mathbf{b} \\iff \\mathbf{x} = \\mathbf{A} \\backslash \\mathbf{b}\n",
    "$$\n",
    "\n",
    "und die Schreibweise damit durchaus sinnvoll. Mit $\\mathbf{I}$ ist die Einheitsmatrix gemeint, im Zweifelsfall nochmal im Skript Mathematik I nachlesen. Und: Googeln Sie mal '_matrix left division_' - die Schreibweise ist ziemlich weit verbreitet."
   ]
  },
  {
   "cell_type": "markdown",
   "metadata": {},
   "source": [
    "Zum Schluss noch die obligatorische Kontrolle"
   ]
  },
  {
   "cell_type": "code",
   "execution_count": 10,
   "metadata": {},
   "outputs": [
    {
     "data": {
      "text/plain": [
       "2-element Vector{Float64}:\n",
       " 0.0\n",
       " 0.0"
      ]
     },
     "execution_count": 10,
     "metadata": {},
     "output_type": "execute_result"
    }
   ],
   "source": [
    "A*x - b"
   ]
  },
  {
   "cell_type": "markdown",
   "metadata": {},
   "source": [
    "Für die Einheitsmatrix \n",
    "\n",
    "$$\n",
    "    \\mathbf{I} \n",
    "    =\n",
    "    \\left[\n",
    "        \\begin{array}{ccccc}\n",
    "            1 & 0 & 0 & \\cdots & 0 \\\\\n",
    "            0 & 1 & 0 & \\cdots & 0 \\\\\n",
    "            0 & 0 & 1 & \\cdots & 0 \\\\\n",
    "            \\vdots & \\vdots & \\vdots & \\ddots & \\vdots \\\\\n",
    "            0 & 0 & 0 & \\cdots & 1\n",
    "        \\end{array}\n",
    "    \\right]\n",
    "$$\n",
    "\n",
    "wird in Julia das Symbol `I` verwendet, für das man keine Größe angeben muss, es funktioniert, wie man das aus der Mathematik kennt. Zum Beispiel bei der Multiplikation mit einem Vektor"
   ]
  },
  {
   "cell_type": "code",
   "execution_count": 13,
   "metadata": {},
   "outputs": [
    {
     "data": {
      "text/plain": [
       "3-element Vector{Int64}:\n",
       " 3\n",
       " 2\n",
       " 1"
      ]
     },
     "execution_count": 13,
     "metadata": {},
     "output_type": "execute_result"
    }
   ],
   "source": [
    "I * u"
   ]
  },
  {
   "cell_type": "markdown",
   "metadata": {},
   "source": [
    "oder der Addition zu einer anderen Matrix (auf der Diagonalen von $A$ stehen $5$ und $1$)."
   ]
  },
  {
   "cell_type": "code",
   "execution_count": 14,
   "metadata": {},
   "outputs": [
    {
     "data": {
      "text/plain": [
       "2×2 Matrix{Int64}:\n",
       " 6  2\n",
       " 6  2"
      ]
     },
     "execution_count": 14,
     "metadata": {},
     "output_type": "execute_result"
    }
   ],
   "source": [
    "A + I"
   ]
  },
  {
   "cell_type": "markdown",
   "metadata": {},
   "source": [
    "Exkurs: Interessanterweise belegt `I` dabei genau ein Byte Speicherplatz, während Vektoren einen gewissen Overhead und für jeden double-Werte 8 Bytes benötigen."
   ]
  },
  {
   "cell_type": "code",
   "execution_count": 26,
   "metadata": {},
   "outputs": [
    {
     "name": "stdout",
     "output_type": "stream",
     "text": [
      "Einheitsmatrix: 1\n",
      "Speicher für Vektor mit   3 Elementen: 64\n",
      "Speicher für Vektor mit   4 Elementen: 72\n"
     ]
    }
   ],
   "source": [
    "println(\"Einheitsmatrix: \", Base.summarysize(I))\n",
    "println(\"Speicher für Vektor mit   3 Elementen: \", Base.summarysize([1.0, 2.0, 3.0]))\n",
    "println(\"Speicher für Vektor mit   4 Elementen: \", Base.summarysize([1.0, 2.0, 3.0, 4.0]))"
   ]
  },
  {
   "cell_type": "markdown",
   "metadata": {},
   "source": [
    "Die Nullen werden also gar nicht gespeichert. Wie funktioniert das? In Julia können Funktionen und Operatoren unterschiedlich für verschiedene Datentypen implementiert werden. Es gibt also eine spezielle Version von `*` für die Einheitsmatrix und einen Vektor, der einfach den Vektor zurückliefert. Das ist eine sehr schöne Anwendung eines der fundamentalen Konzepte von Julia, dem _Multiple Dispatch_. Ein Vortrag zum Thema gibt es hier https://youtu.be/kc9HwsxE1OY, Stefan Karpinski ist einer der Autoren von Julia, dementsprechend ist er ziemlich begeistert von der Sache. Trotzdem intressant."
   ]
  },
  {
   "cell_type": "markdown",
   "metadata": {},
   "source": []
  }
 ],
 "metadata": {
  "kernelspec": {
   "display_name": "Julia 1.8.1",
   "language": "julia",
   "name": "julia-1.8"
  },
  "language_info": {
   "file_extension": ".jl",
   "mimetype": "application/julia",
   "name": "julia",
   "version": "1.8.1"
  },
  "orig_nbformat": 4,
  "vscode": {
   "interpreter": {
    "hash": "31f2aee4e71d21fbe5cf8b01ff0e069b9275f58929596ceb00d14d90e3e16cd6"
   }
  }
 },
 "nbformat": 4,
 "nbformat_minor": 2
}
